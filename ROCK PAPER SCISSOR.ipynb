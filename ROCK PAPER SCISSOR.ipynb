{
 "cells": [
  {
   "cell_type": "code",
   "execution_count": 1,
   "id": "5d2a2bff",
   "metadata": {},
   "outputs": [
    {
     "name": "stdout",
     "output_type": "stream",
     "text": [
      "Type Rock/Paper/Scissors or Q to quit: rock\n",
      "Computer picked rock.\n",
      "You lost!\n",
      "Type Rock/Paper/Scissors or Q to quit: Rock\n",
      "Computer picked rock.\n",
      "You lost!\n",
      "Type Rock/Paper/Scissors or Q to quit: Paper\n",
      "Computer picked paper.\n",
      "You lost!\n",
      "Type Rock/Paper/Scissors or Q to quit: Scissors\n",
      "Computer picked paper.\n",
      "You won!\n",
      "Type Rock/Paper/Scissors or Q to quit: Scissors\n",
      "Computer picked paper.\n",
      "You won!\n",
      "Type Rock/Paper/Scissors or Q to quit: Scissors\n",
      "Computer picked scissors.\n",
      "You lost!\n",
      "Type Rock/Paper/Scissors or Q to quit: Rock\n",
      "Computer picked scissors.\n",
      "You won!\n",
      "Type Rock/Paper/Scissors or Q to quit: Rock\n",
      "Computer picked scissors.\n",
      "You won!\n",
      "Type Rock/Paper/Scissors or Q to quit: ROCK\n",
      "Computer picked scissors.\n",
      "You won!\n",
      "Type Rock/Paper/Scissors or Q to quit: Q\n",
      "You won 5 times.\n",
      "The computer won 4 times.\n",
      "Goodbye!\n"
     ]
    }
   ],
   "source": [
    "import random\n",
    "\n",
    "user_wins = 0\n",
    "computer_wins = 0\n",
    "\n",
    "options = [\"rock\", \"paper\", \"scissors\"]\n",
    "\n",
    "while True:\n",
    "    user_input = input(\"Type Rock/Paper/Scissors or Q to quit: \").lower()\n",
    "    if user_input == \"q\":\n",
    "        break\n",
    "\n",
    "    if user_input not in options:\n",
    "        continue\n",
    "\n",
    "    random_number = random.randint(0, 2)\n",
    "    # rock: 0, paper: 1, scissors: 2\n",
    "    computer_pick = options[random_number]\n",
    "    print(\"Computer picked\", computer_pick + \".\")\n",
    "\n",
    "    if user_input == \"rock\" and computer_pick == \"scissors\":\n",
    "        print(\"You won!\")\n",
    "        user_wins += 1\n",
    "\n",
    "    elif user_input == \"paper\" and computer_pick == \"rock\":\n",
    "        print(\"You won!\")\n",
    "        user_wins += 1\n",
    "\n",
    "    elif user_input == \"scissors\" and computer_pick == \"paper\":\n",
    "        print(\"You won!\")\n",
    "        user_wins += 1\n",
    "\n",
    "    else:\n",
    "        print(\"You lost!\")\n",
    "        computer_wins += 1\n",
    "\n",
    "print(\"You won\", user_wins, \"times.\")\n",
    "print(\"The computer won\", computer_wins, \"times.\")\n",
    "print(\"Goodbye!\")"
   ]
  },
  {
   "cell_type": "code",
   "execution_count": null,
   "id": "03932177",
   "metadata": {},
   "outputs": [],
   "source": []
  }
 ],
 "metadata": {
  "kernelspec": {
   "display_name": "Python 3",
   "language": "python",
   "name": "python3"
  },
  "language_info": {
   "codemirror_mode": {
    "name": "ipython",
    "version": 3
   },
   "file_extension": ".py",
   "mimetype": "text/x-python",
   "name": "python",
   "nbconvert_exporter": "python",
   "pygments_lexer": "ipython3",
   "version": "3.8.8"
  }
 },
 "nbformat": 4,
 "nbformat_minor": 5
}
